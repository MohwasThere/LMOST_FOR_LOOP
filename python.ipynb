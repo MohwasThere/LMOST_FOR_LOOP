{
 "cells": [
  {
   "cell_type": "code",
   "execution_count": 1,
   "id": "664c69b0",
   "metadata": {},
   "outputs": [
    {
     "name": "stdout",
     "output_type": "stream",
     "text": [
      "Collecting anytree\n",
      "  Using cached anytree-2.13.0-py3-none-any.whl.metadata (8.0 kB)\n",
      "Using cached anytree-2.13.0-py3-none-any.whl (45 kB)\n",
      "Installing collected packages: anytree\n",
      "Successfully installed anytree-2.13.0\n",
      "Note: you may need to restart the kernel to use updated packages.\n"
     ]
    }
   ],
   "source": [
    "pip install anytree"
   ]
  }
 ],
 "metadata": {
  "kernelspec": {
   "display_name": "base",
   "language": "python",
   "name": "python3"
  },
  "language_info": {
   "codemirror_mode": {
    "name": "ipython",
    "version": 3
   },
   "file_extension": ".py",
   "mimetype": "text/x-python",
   "name": "python",
   "nbconvert_exporter": "python",
   "pygments_lexer": "ipython3",
   "version": "3.12.7"
  }
 },
 "nbformat": 4,
 "nbformat_minor": 5
}
